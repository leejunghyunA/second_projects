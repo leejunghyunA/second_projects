{
 "cells": [
  {
   "cell_type": "markdown",
   "id": "25d75598",
   "metadata": {},
   "source": [
    "분류에 사용할 수 있는 모델 \n",
    "- DT\n",
    "- GradientBoostingClassifier\n",
    "- RF \n",
    "- SVM\n",
    "- KNN\n",
    "- LR"
   ]
  },
  {
   "cell_type": "markdown",
   "id": "b2088da8",
   "metadata": {},
   "source": [
    "- KFold\n",
    "- GridSearchCV "
   ]
  },
  {
   "cell_type": "markdown",
   "id": "5a495ead",
   "metadata": {},
   "source": [
    "----"
   ]
  },
  {
   "cell_type": "code",
   "execution_count": null,
   "id": "592cb54c",
   "metadata": {},
   "outputs": [],
   "source": [
    "from sklearn.neighbors import KNeighborsClassifier\n",
    "from sklearn import svm\n",
    "from sklearn.linear_model import LogisticRegression\n",
    "from sklearn.tree import DecisionTreeClassifier\n",
    "from sklearn.ensemble import GradientBoostingClassifier\n",
    "from sklearn.ensemble import RandomForestClassifier\n",
    "from lightgbm import LGBMClassifier\n",
    "import numpy as np\n",
    "from sklearn.model_selection import train_test_split\n",
    "from sklearn.metrics import accuracy_score\n",
    "import warnings\n",
    "warnings.filterwarnings('ignore')\n",
    "import pandas as pd\n",
    "from sklearn.model_selection import GridSearchCV\n",
    "from sklearn.metrics import confusion_matrix, precision_score, recall_score, f1_score, roc_auc_score, precision_score"
   ]
  },
  {
   "cell_type": "code",
   "execution_count": null,
   "id": "b0e3ac8a",
   "metadata": {},
   "outputs": [],
   "source": [
    "X= \n",
    "y=  "
   ]
  },
  {
   "cell_type": "code",
   "execution_count": null,
   "id": "9d9a38c0",
   "metadata": {},
   "outputs": [],
   "source": [
    "X_train,X_test,y_train,y_test= train_test_split(X, y, test_size=0.3, random_state=156) "
   ]
  },
  {
   "cell_type": "code",
   "execution_count": null,
   "id": "552023a7",
   "metadata": {},
   "outputs": [],
   "source": [
    "model_list = [RandomForestClassifier(),DecisionTreeClassifier(),LogisticRegression(), GradientBoostingClassifier(), KNeighborsClassifier(), svm.SVC(), LGBMClassifier()]"
   ]
  },
  {
   "cell_type": "code",
   "execution_count": null,
   "id": "cd729a7d",
   "metadata": {},
   "outputs": [],
   "source": [
    "rf_param_grid = {\n",
    "    'n_estimators':[100,150,200],\n",
    "    'max_depth':[6,8,10,12,20],\n",
    "    'min_samples_leaf':[4,6,8,12,18,25],\n",
    "    'min_samples_split':[6,8,16,20,25]\n",
    "}\n",
    "\n",
    "\n",
    "lg_param_grid = {\n",
    "    'penalty':['l1', 'l2', 'elasticnet'],     # l1 is Lasso, l2 is Ridge\n",
    "    'solver':['liblinear'],\n",
    "    'C': np.linspace(0.00002,1,100)\n",
    "}\n",
    "\n",
    "\n",
    "dt_param_grid = {\n",
    "    'max_depth': [2, 3, 5, 10, 20],\n",
    "    'min_samples_leaf': [5, 10, 20, 50, 100],\n",
    "    'criterion': [\"gini\", \"entropy\"]\n",
    "}\n",
    "\n",
    "gb_param_grid = {\n",
    "    \"loss\":[\"deviance\"],\n",
    "    \"learning_rate\": [0.01, 0.025, 0.05, 0.075, 0.1, 0.15, 0.2],\n",
    "    \"min_samples_split\": np.linspace(0.1, 0.5, 12),\n",
    "    \"min_samples_leaf\": np.linspace(0.1, 0.5, 12),\n",
    "    \"max_depth\":[3,5,8],\n",
    "    \"max_features\":[\"log2\",\"sqrt\"],\n",
    "    \"criterion\": [\"friedman_mse\",  \"mae\"],\n",
    "    \"subsample\":[0.5, 0.618, 0.8, 0.85, 0.9, 0.95, 1.0],\n",
    "    \"n_estimators\":[10]\n",
    "    }\n",
    "\n",
    "\n",
    "knn_param_grid = {\n",
    "    'n_neighbors' : list(range(1,20)),\n",
    "    'weights' : [\"uniform\", \"distance\"],\n",
    "    'metric' : ['euclidean', 'manhattan', 'minkowski']\n",
    "}\n",
    "\n",
    "svm_param_grid = {'C': [0.1,1, 10, 100], 'gamma': [1,0.1,0.01,0.001],'kernel': ['rbf', 'poly', 'sigmoid']}\n",
    "\n",
    "\n",
    "\n",
    "lgbm_param_grid = {'num_leaves':[20,40,60,80,100], 'min_child_samples':[5,10,15],'max_depth':[-1,5,10,20],\n",
    "             'learning_rate':[0.05,0.1,0.2],'reg_alpha':[0,0.01,0.03]}#Define the scoring\n",
    "\n",
    "\n",
    "param_list = [rf_param_grid, dt_param_grid,lg_param_grid, gb_param_grid, knn_param_grid, svm_param_grid, lgbm_param_grid]"
   ]
  },
  {
   "cell_type": "code",
   "execution_count": null,
   "id": "f4134ccb",
   "metadata": {},
   "outputs": [],
   "source": [
    "def get_clf_eval(y_test, y_pred):\n",
    "    confusion = confusion_matrix(y_test, y_pred)\n",
    "    accuracy = accuracy_score(y_test, y_pred)\n",
    "    precision = precision_score(y_test, y_pred)\n",
    "    recall = recall_score(y_test, y_pred)\n",
    "    F1 = f1_score(y_test, y_pred)\n",
    "    AUC = roc_auc_score(y_test, y_pred)\n",
    "    \n",
    "    print('오차행렬:\\n', confusion)\n",
    "    print('\\n정확도: {:.4f}'.format(accuracy))\n",
    "    print('정밀도: {:.4f}'.format(precision))\n",
    "    print('재현율: {:.4f}'.format(recall))\n",
    "    print('F1: {:.4f}'.format(F1))\n",
    "    print('AUC: {:.4f}'.format(AUC))"
   ]
  },
  {
   "cell_type": "code",
   "execution_count": null,
   "id": "33f6713f",
   "metadata": {
    "scrolled": true
   },
   "outputs": [],
   "source": [
    "for index, model in enumerate(model_list):\n",
    "    model.fit(X_train,y_train)\n",
    "    \n",
    "    grid_model = GridSearchCV(model, param_grid=param_list[index], cv=3, n_jobs=-1)\n",
    "\n",
    "    grid_model.fit(X_train,y_train)\n",
    "    class_name=model.__class__.__name__\n",
    "    print(f'{class_name}')\n",
    "    print('최적 하이퍼 파라미터 : \\n', grid_model.best_params_)\n",
    "\n",
    "    print('최고 예측 정확도 : ', round(grid_model.best_score_,4))\n",
    " \n",
    "    \n",
    "    #pred= model.predict(X_test)\n",
    "    #get_clf_eval(y_test, pred)\n",
    "    print('------------------------------------------------')"
   ]
  },
  {
   "cell_type": "code",
   "execution_count": null,
   "id": "c76cd2aa",
   "metadata": {},
   "outputs": [],
   "source": []
  }
 ],
 "metadata": {
  "kernelspec": {
   "display_name": "Python 3 (ipykernel)",
   "language": "python",
   "name": "python3"
  },
  "language_info": {
   "codemirror_mode": {
    "name": "ipython",
    "version": 3
   },
   "file_extension": ".py",
   "mimetype": "text/x-python",
   "name": "python",
   "nbconvert_exporter": "python",
   "pygments_lexer": "ipython3",
   "version": "3.7.12"
  }
 },
 "nbformat": 4,
 "nbformat_minor": 5
}
