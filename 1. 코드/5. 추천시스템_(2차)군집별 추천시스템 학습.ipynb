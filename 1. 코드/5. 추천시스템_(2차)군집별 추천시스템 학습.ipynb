{
 "cells": [
  {
   "cell_type": "code",
   "execution_count": 2,
   "id": "00b2b7cb",
   "metadata": {},
   "outputs": [],
   "source": [
    "from surprise import KNNBasic, SVD, SVDpp, NMF\n",
    "from surprise import Dataset\n",
    "from surprise.model_selection import cross_validate\n",
    "from surprise import Reader\n",
    "from surprise.model_selection import train_test_split\n",
    "from surprise import accuracy\n",
    "from surprise.model_selection import GridSearchCV\n",
    "\n",
    "def find_best_params(df, min_r, max_r):\n",
    "    reader = Reader(rating_scale=(min_r, max_r))\n",
    "    data = Dataset.load_from_df(df, reader=reader)\n",
    "    # data_folds = DatasetAutoFolds(ratings_file='surprise_dataset_1027.csv', reader=reader)\n",
    "    #trainset = data_folds_build_full_trainset()\n",
    "    trainset, testset = train_test_split(data,test_size=.25,random_state=0)\n",
    "    \n",
    "    print('SVD 모델로 학습') \n",
    "    algo = SVD(random_state=0)\n",
    "    cross_validate(algo, data, measures=['RMSE','MAE'], cv=5, verbose=True)\n",
    "\n",
    "\n",
    "    # 최적화할 파라미터를 딕셔너리 형태로 지정 \n",
    "    param_grid ={'n_epochs': [20,40,60], 'n_factors': [50,100,200]}\n",
    "\n",
    "    gs = GridSearchCV(SVD, param_grid, measures = ['rmse','mae'],cv=3)\n",
    "    gs.fit(data)\n",
    "\n",
    "    print(gs.best_score['rmse'])\n",
    "    print(gs.best_params['rmse'])\n",
    "    \n",
    "    return gs.best_params['rmse']\n",
    "    \n"
   ]
  },
  {
   "cell_type": "code",
   "execution_count": 3,
   "id": "13dcb29d",
   "metadata": {},
   "outputs": [],
   "source": [
    "from surprise.dataset import DatasetAutoFolds\n",
    "\n",
    "def r_predict_df(df, max_r,min_r, best_params):\n",
    "    reader = Reader(rating_scale=(min_r,max_r))\n",
    "    data = Dataset.load_from_df(df, reader=reader)\n",
    "    \n",
    "    n_epochs = best_params['n_epochs']\n",
    "    n_factors = best_params['n_factors']   \n",
    "    \n",
    "    #train 과  test으로 나누지말고 전부로 모델 학습하기 \n",
    "    trainset = data.build_full_trainset()\n",
    "    \n",
    "    #SVD 모델로 학습 \n",
    "    algo = SVD(n_epochs=n_epochs ,n_factors=n_factors, random_state=0)\n",
    "    algo.fit(trainset)\n",
    "\n",
    "    print('-------------학습 완료-------------------')\n",
    "    \n",
    "    return algo\n"
   ]
  },
  {
   "cell_type": "code",
   "execution_count": 4,
   "id": "e2d469a4",
   "metadata": {},
   "outputs": [],
   "source": [
    "# 1. 해당 userid가 아직 평점을 매기지 않은 제품, 평점을 매긴 모든 제품 추출 (리스트 형태)\n",
    "def get_unpurchased_surprise(origin_df, userid):\n",
    "    # userid에 해당하는 사용자가 평점을 매긴 모든 제품\n",
    "    purchased_prds = origin_df[(origin_df['CUSTNO']==userid)&(origin_df['SCORE'] > 0)]['PRD'].tolist()\n",
    "    \n",
    "    total_prds = origin_df['PRD'].unique()\n",
    "    \n",
    "    # userid에 해당하는 사용자가 한번도 구매하지 않은 모든 제품\n",
    "    unpurchased_prds = [PRD for PRD in total_prds if PRD not in purchased_prds]\n",
    "\n",
    "    # 한번도 구매하지 않은 모든 제품, 평점을 매긴 모든 제품 반출\n",
    "    return unpurchased_prds,  purchased_prds\n",
    "\n",
    "# 입력(군집별 고객 데이터, 최적의 예측값 모델, 고객번호, top 개수) -> 출력 (안사본 물품 중 top, 구매한 물품 중 top)\n",
    "def recomm_prd_by_surprise(temp_df, algo,  userid, top_n):\n",
    "    \n",
    "    # 구매하지 않은 제품, 평점을 매긴 모든 제품 추출 각각 추출 (1. 함수 적용)\n",
    "    unpurchased_prds, purchased_prds = get_unpurchased_surprise(temp_df, userid)\n",
    "    \n",
    "#  모델 적용\n",
    "    # 1) 아직 안사본 제품\n",
    "    predictions = [algo.predict(str(userid), str(PRD)) for PRD in unpurchased_prds]\n",
    "    # 2) 이미 사본 제품\n",
    "    predictions_bought = [algo.predict(str(userid), str(PRD)) for PRD in purchased_prds]\n",
    "    \n",
    "    # predictions list 객체는 predictions 객체를 원소로 갖고 있음\n",
    "    # est 값으로 정렬 _ sortkey_est 함수 생성\n",
    "    def sortkey_est(pred):\n",
    "        return pred.est\n",
    "    \n",
    "# pred값을 내림 차순으로 정렬\n",
    "\n",
    "## 1) 아직 안사본 제품\n",
    "    predictions.sort(key = sortkey_est, reverse = True)\n",
    "    # 상위 n개만 추출\n",
    "    top_predictions = predictions[:top_n]\n",
    "    \n",
    "## 2) 이미 사본 제품\n",
    "    predictions_bought.sort(key = sortkey_est, reverse = True)\n",
    "    # 상위 n개만 추출\n",
    "    top_predictions_bought = predictions_bought[:top_n]\n",
    "    \n",
    "# ! 최종 추출\n",
    "# 상위 n 개의 제품 정보, 예측 지수\n",
    "    \n",
    "    # 1) 안사본 제품 \n",
    "    top_prds = [pred.iid for pred in top_predictions] # 해당 제품\n",
    "    top_prds_rating = [pred.est for pred in top_predictions] # 예측 지수\n",
    "    \n",
    "    # 2) 사본 제품\n",
    "    top_prds_bought = [pred.iid for pred in top_predictions_bought] # 해당 제품\n",
    "    top_prds_rating_bought = [pred.est for pred in top_predictions_bought] # 예측 지수\n",
    "    \n",
    "# *최종 값 형태 = 리스트 내 튜플 형태 (해당 제품, 예측 지수) ]\n",
    "    top_prds_preds = [ ( id, rating) for id, rating in zip(top_prds, top_prds_rating)]\n",
    "    top_prds_preds_bought = [ ( id, rating) for id, rating in zip(top_prds_bought, top_prds_rating_bought)]\n",
    "    \n",
    "    return top_prds_preds, top_prds_preds_bought"
   ]
  },
  {
   "cell_type": "markdown",
   "id": "64864d51",
   "metadata": {},
   "source": [
    "# 데이터프레임 불러오기\n",
    "- 구매지수 R 데이터프레임 \n",
    "- 고객번호와 군집 라벨 데이터프레임\n",
    "- 카테고리 데이터프레임"
   ]
  },
  {
   "cell_type": "code",
   "execution_count": 5,
   "id": "c4a996e3",
   "metadata": {},
   "outputs": [
    {
     "data": {
      "text/html": [
       "<div>\n",
       "<style scoped>\n",
       "    .dataframe tbody tr th:only-of-type {\n",
       "        vertical-align: middle;\n",
       "    }\n",
       "\n",
       "    .dataframe tbody tr th {\n",
       "        vertical-align: top;\n",
       "    }\n",
       "\n",
       "    .dataframe thead th {\n",
       "        text-align: right;\n",
       "    }\n",
       "</style>\n",
       "<table border=\"1\" class=\"dataframe\">\n",
       "  <thead>\n",
       "    <tr style=\"text-align: right;\">\n",
       "      <th></th>\n",
       "      <th>CUSTNO</th>\n",
       "      <th>PRD</th>\n",
       "      <th>SCORE</th>\n",
       "    </tr>\n",
       "  </thead>\n",
       "  <tbody>\n",
       "    <tr>\n",
       "      <th>0</th>\n",
       "      <td>1</td>\n",
       "      <td>A_4대 B/D</td>\n",
       "      <td>0.0</td>\n",
       "    </tr>\n",
       "    <tr>\n",
       "      <th>1</th>\n",
       "      <td>1</td>\n",
       "      <td>A_5 ON THE GO</td>\n",
       "      <td>0.0</td>\n",
       "    </tr>\n",
       "    <tr>\n",
       "      <th>2</th>\n",
       "      <td>1</td>\n",
       "      <td>A_ACC Bloom (1F)</td>\n",
       "      <td>0.0</td>\n",
       "    </tr>\n",
       "    <tr>\n",
       "      <th>3</th>\n",
       "      <td>1</td>\n",
       "      <td>A_ACC Bloom (3F)</td>\n",
       "      <td>0.0</td>\n",
       "    </tr>\n",
       "    <tr>\n",
       "      <th>4</th>\n",
       "      <td>1</td>\n",
       "      <td>A_AK골프</td>\n",
       "      <td>0.0</td>\n",
       "    </tr>\n",
       "  </tbody>\n",
       "</table>\n",
       "</div>"
      ],
      "text/plain": [
       "   CUSTNO               PRD  SCORE\n",
       "0       1          A_4대 B/D    0.0\n",
       "1       1     A_5 ON THE GO    0.0\n",
       "2       1  A_ACC Bloom (1F)    0.0\n",
       "3       1  A_ACC Bloom (3F)    0.0\n",
       "4       1            A_AK골프    0.0"
      ]
     },
     "execution_count": 5,
     "metadata": {},
     "output_type": "execute_result"
    }
   ],
   "source": [
    "import pandas as pd\n",
    "import warnings\n",
    "warnings.filterwarnings('ignore')\n",
    "\n",
    "surprise_df = pd.read_csv('C:/cakd7/2차 프로젝트/surprise_dataset_1027.csv')\n",
    "surprise_df.columns = ['CUSTNO', 'PRD', 'SCORE']\n",
    "# user_item_index_df\n",
    "surprise_df.head()"
   ]
  },
  {
   "cell_type": "code",
   "execution_count": 7,
   "id": "ed8c6858",
   "metadata": {},
   "outputs": [
    {
     "data": {
      "text/html": [
       "<div>\n",
       "<style scoped>\n",
       "    .dataframe tbody tr th:only-of-type {\n",
       "        vertical-align: middle;\n",
       "    }\n",
       "\n",
       "    .dataframe tbody tr th {\n",
       "        vertical-align: top;\n",
       "    }\n",
       "\n",
       "    .dataframe thead th {\n",
       "        text-align: right;\n",
       "    }\n",
       "</style>\n",
       "<table border=\"1\" class=\"dataframe\">\n",
       "  <thead>\n",
       "    <tr style=\"text-align: right;\">\n",
       "      <th></th>\n",
       "      <th>cluster</th>\n",
       "    </tr>\n",
       "    <tr>\n",
       "      <th>CUSTNO</th>\n",
       "      <th></th>\n",
       "    </tr>\n",
       "  </thead>\n",
       "  <tbody>\n",
       "    <tr>\n",
       "      <th>6</th>\n",
       "      <td>3</td>\n",
       "    </tr>\n",
       "    <tr>\n",
       "      <th>11</th>\n",
       "      <td>0</td>\n",
       "    </tr>\n",
       "    <tr>\n",
       "      <th>12</th>\n",
       "      <td>3</td>\n",
       "    </tr>\n",
       "    <tr>\n",
       "      <th>13</th>\n",
       "      <td>3</td>\n",
       "    </tr>\n",
       "    <tr>\n",
       "      <th>16</th>\n",
       "      <td>3</td>\n",
       "    </tr>\n",
       "  </tbody>\n",
       "</table>\n",
       "</div>"
      ],
      "text/plain": [
       "        cluster\n",
       "CUSTNO         \n",
       "6             3\n",
       "11            0\n",
       "12            3\n",
       "13            3\n",
       "16            3"
      ]
     },
     "execution_count": 7,
     "metadata": {},
     "output_type": "execute_result"
    }
   ],
   "source": [
    "cust_df = pd.read_csv('./생성데이터/5. 추천시스템/surprise_data/cust_clustering2.csv', index_col=0)\n",
    "\n",
    "cluster_list = list(cust_df['cluster'].unique())\n",
    "\n",
    "cust_df.head()"
   ]
  },
  {
   "cell_type": "code",
   "execution_count": 8,
   "id": "905e978b",
   "metadata": {},
   "outputs": [
    {
     "data": {
      "text/html": [
       "<div>\n",
       "<style scoped>\n",
       "    .dataframe tbody tr th:only-of-type {\n",
       "        vertical-align: middle;\n",
       "    }\n",
       "\n",
       "    .dataframe tbody tr th {\n",
       "        vertical-align: top;\n",
       "    }\n",
       "\n",
       "    .dataframe thead th {\n",
       "        text-align: right;\n",
       "    }\n",
       "</style>\n",
       "<table border=\"1\" class=\"dataframe\">\n",
       "  <thead>\n",
       "    <tr style=\"text-align: right;\">\n",
       "      <th></th>\n",
       "      <th>제휴사</th>\n",
       "      <th>금액 타입</th>\n",
       "      <th>대분류명_y</th>\n",
       "      <th>중분류명</th>\n",
       "      <th>소분류명</th>\n",
       "      <th>UPRICE</th>\n",
       "      <th>AVG</th>\n",
       "      <th>AVGVS</th>\n",
       "    </tr>\n",
       "  </thead>\n",
       "  <tbody>\n",
       "    <tr>\n",
       "      <th>0</th>\n",
       "      <td>B</td>\n",
       "      <td>저가</td>\n",
       "      <td>식품</td>\n",
       "      <td>버섯</td>\n",
       "      <td>건버섯</td>\n",
       "      <td>3017</td>\n",
       "      <td>7926</td>\n",
       "      <td>0.4</td>\n",
       "    </tr>\n",
       "    <tr>\n",
       "      <th>1</th>\n",
       "      <td>B</td>\n",
       "      <td>저가</td>\n",
       "      <td>식품</td>\n",
       "      <td>버섯</td>\n",
       "      <td>느타리버섯</td>\n",
       "      <td>3017</td>\n",
       "      <td>7926</td>\n",
       "      <td>0.4</td>\n",
       "    </tr>\n",
       "    <tr>\n",
       "      <th>2</th>\n",
       "      <td>B</td>\n",
       "      <td>저가</td>\n",
       "      <td>식품</td>\n",
       "      <td>버섯</td>\n",
       "      <td>버섯모둠</td>\n",
       "      <td>3017</td>\n",
       "      <td>7926</td>\n",
       "      <td>0.4</td>\n",
       "    </tr>\n",
       "    <tr>\n",
       "      <th>3</th>\n",
       "      <td>B</td>\n",
       "      <td>저가</td>\n",
       "      <td>식품</td>\n",
       "      <td>버섯</td>\n",
       "      <td>버섯선물세트</td>\n",
       "      <td>3017</td>\n",
       "      <td>7926</td>\n",
       "      <td>0.4</td>\n",
       "    </tr>\n",
       "    <tr>\n",
       "      <th>4</th>\n",
       "      <td>B</td>\n",
       "      <td>저가</td>\n",
       "      <td>식품</td>\n",
       "      <td>버섯</td>\n",
       "      <td>새송이버섯</td>\n",
       "      <td>3017</td>\n",
       "      <td>7926</td>\n",
       "      <td>0.4</td>\n",
       "    </tr>\n",
       "  </tbody>\n",
       "</table>\n",
       "</div>"
      ],
      "text/plain": [
       "  제휴사 금액 타입 대분류명_y 중분류명    소분류명  UPRICE   AVG  AVGVS\n",
       "0   B    저가     식품   버섯     건버섯    3017  7926    0.4\n",
       "1   B    저가     식품   버섯   느타리버섯    3017  7926    0.4\n",
       "2   B    저가     식품   버섯    버섯모둠    3017  7926    0.4\n",
       "3   B    저가     식품   버섯  버섯선물세트    3017  7926    0.4\n",
       "4   B    저가     식품   버섯   새송이버섯    3017  7926    0.4"
      ]
     },
     "execution_count": 8,
     "metadata": {},
     "output_type": "execute_result"
    }
   ],
   "source": [
    "final_cat = pd.read_csv('생성데이터/5. 추천시스템/최종cat순서나열.csv', index_col=0)\n",
    "final_cat.drop(columns=['대분류코드','QTY','구매금액_min','구매금액_max','구매금액_mean'], inplace=True)\n",
    "# category_df\n",
    "final_cat.head()"
   ]
  },
  {
   "cell_type": "code",
   "execution_count": 9,
   "id": "47bc533f",
   "metadata": {},
   "outputs": [],
   "source": [
    "# 특정 고객의 구매이력이 있는 추천리스트, 구매이력이 없는 추천리스트 딕셔너리 형태로 반환하는 함수 생성\n",
    "# 입력값 (고객별 군집결과 데이터, 구매지수 데이터, 소분류명 정보_제휴사, 단가) \n",
    "# -> 반출값 : 1. 구매이력이 있는 추천리스트, 2. 구매이력이 없는 추천리스트\n",
    "def dict_recommend_unrecommend(cluster_df, user_item_index_df, cluster_name): \n",
    "    \n",
    "    # 해당 군집에 있는 고객 번호 뽑아서 리스트로\n",
    "    cust_index_list = list(cluster_df[cluster_df['cluster']==cluster_name].index)\n",
    "    # 구매지수 데이터에서 해당하는 고객번호들의 데이터로 새로운 데이터프레임 생성\n",
    "    temp_df = user_item_index_df[user_item_index_df['CUSTNO'].isin(cust_index_list)] #isin(cust_index_list)]\n",
    "\n",
    "    # 구매지수 최댓값, 최솟값 추출\n",
    "    max_r = temp_df['SCORE'].max()\n",
    "    min_r = temp_df['SCORE'].min()\n",
    "\n",
    "    ## 서프라이즈 최적 파라미터  돌리기\n",
    "    best_params = find_best_params(temp_df,min_r,max_r)\n",
    "\n",
    "     ## 서프라이즈 최적 파라미터로 해당 for문의 군집을 위한 모델 학습\n",
    "    algo = r_predict_df(temp_df,max_r,min_r, best_params)\n",
    "    \n",
    "    # 해당군집으로 학습된 모델을 반환\n",
    "    return algo, cust_index_list, temp_df\n",
    "\n",
    "\n",
    "def return_of_recommend_dict(algo, cust_index_list, temp_df):\n",
    "    \n",
    "    super_list = []\n",
    "    super_list_bought = []\n",
    "    \n",
    "    # 고객별 추천 결과 받기 \n",
    "# !--출력 값 (딕셔너리 형태)\n",
    "        # 1) 안사본 물품\n",
    "    recomm_dict = {} \n",
    "    # 2) 사본 물품\n",
    "    recomm_dict_bought = {}\n",
    "\n",
    "    # 위에서 해당 군집의 각 고객별로 상품 예측 지수를 위에서 학습시킨 모델로 구하기 \n",
    "    for cust in cust_index_list:\n",
    "\n",
    "        # 입력 (해당하는 군집에 있는 고객 데이터, 최적 파라미터로 모델, 고객, top) -> 추출 (안사본 물품 중 top, 구매한 물품 중 top)\n",
    "        top_prd_preds, top_prd_preds_bought  = recomm_prd_by_surprise(temp_df, algo, cust, top_n=50)\n",
    "\n",
    "        # 해당하는 고객의  입력 _(해당 제품, 구매지수) ex. {9_고객번호 : (양말_해당 제품이름, 0.5), (), () ......}\n",
    "\n",
    "    # 1) 안사본 물품\n",
    "        recomm_dict[cust] = [top_prd_preds[0]] # 첫번째 value 입력\n",
    "\n",
    "        # 딕셔너리 차례로 담기\n",
    "        for prd in top_prd_preds[1:]:\n",
    "            if cust in recomm_dict:\n",
    "                recomm_dict[cust].append(prd)\n",
    "\n",
    "    # 2) 이미 사본 제품\n",
    "        recomm_dict_bought[cust] = [top_prd_preds_bought[0]]\n",
    "        for prd in top_prd_preds_bought[1:]:\n",
    "            if cust in recomm_dict_bought:\n",
    "                recomm_dict_bought[cust].append(prd)\n",
    "\n",
    "# ! -- 최종 출력 값(리스트 형태) _ 군집별 고객별 제품 추천 딕셔너리\n",
    "        super_list.append(recomm_dict)\n",
    "        super_list_bought.append(recomm_dict_bought)\n",
    "\n",
    "    return super_list, super_list_bought"
   ]
  },
  {
   "cell_type": "markdown",
   "id": "51c95502",
   "metadata": {},
   "source": [
    "# 특정 고객의 추천 리스트 받기 "
   ]
  },
  {
   "cell_type": "code",
   "execution_count": 10,
   "id": "91aab025",
   "metadata": {},
   "outputs": [],
   "source": [
    "# algo, cust_index_list, temp_df = dict_recommend_unrecommend(df, user_item_index_df, cluster)\n",
    "# super_list, super_list_bought = return_of_recommend_dict(algo, cust_index_list, temp_df)"
   ]
  },
  {
   "cell_type": "code",
   "execution_count": 11,
   "id": "cbfb2ff6",
   "metadata": {
    "scrolled": false
   },
   "outputs": [],
   "source": [
    "# 고객 \n",
    "\n",
    "def get_recommend_cust(cluster, cust, super_list, category_df):\n",
    "    \n",
    "    dict_custs = super_list[cluster]\n",
    "    df = pd.DataFrame(dict_custs[cust])\n",
    "    df.columns = ['ITEM','RATING']\n",
    "    df['ASSO'] = df['ITEM'].apply(lambda x: x[0])\n",
    "    df['ITEM'] = df['ITEM'].apply(lambda x: x[2:])\n",
    "\n",
    "    dff = df.merge(category_df, how='left', left_on=['ASSO','ITEM'], right_on=['제휴사', '소분류명'])\n",
    "    \n",
    "    dff_replace = dff[['제휴사', '대분류명_y', '중분류명', '소분류명', '금액 타입', 'RATING']]\n",
    "    dff_replace.columns = ['제휴사', '대분류명', '중분류명', '추천 상품', '금액 타입', '예측 구매 지수']\n",
    "    \n",
    "    cat_grouped = dff_replace.groupby('대분류명')\n",
    "    \n",
    "    cat_list = list(dff_replace['대분류명'].unique())\n",
    "    \n",
    "    print(f' ♣ {cust} 고객님만을 위한 추천 상품이에요!!!! only for you~ ', '\\n')\n",
    "    for cat in cat_list:\n",
    "        print()\n",
    "        print(f' {cat} 추천 제품 ▼')\n",
    "        display(cat_grouped.get_group(cat))\n",
    "        \n",
    "def get_recommend_cust_bought(cluster, cust, super_list_bought, category_df):\n",
    "    \n",
    "    dict_custs = super_list_bought[cluster]\n",
    "    df = pd.DataFrame(super_list_bought[cust])\n",
    "    df.columns = ['ITEM','RATING']\n",
    "    df['ASSO'] = df['ITEM'].apply(lambda x: x[0])\n",
    "    df['ITEM'] = df['ITEM'].apply(lambda x: x[2:])\n",
    "\n",
    "    dff = df.merge(category_df, how='left', left_on=['ASSO','ITEM'], right_on=['제휴사', '소분류명'])\n",
    "    \n",
    "    dff_replace = dff[['제휴사', '대분류명_y', '중분류명', '소분류명', '금액 타입', 'RATING']]\n",
    "    dff_replace.columns = ['제휴사', '대분류명', '중분류명', '추천 상품', '금액 타입', '예측 구매 지수']\n",
    "    \n",
    "    cat_grouped = dff_replace.groupby('대분류명')\n",
    "    \n",
    "    cat_list = list(dff_replace['대분류명'].unique())\n",
    "    \n",
    "    print(f' ♣ {cust} 고객님이 선호하는 상품이에요!!!! only for you~ ', '\\n')\n",
    "    # 출력값\n",
    "    for cat in cat_list:\n",
    "        print()\n",
    "        print(f' {cat}의 추천 제품 ▼')\n",
    "        display(cat_grouped.get_group(cat))\n",
    "        \n",
    "    \n",
    "# print('<<<<<<<<<<<<<<<<<<<<<<<<<<<<<<<<<<<<<<<<<<<<<<<<<<<<<<<   RECOMMEND PRODUCTS    >>>>>>>>>>>>>>>>>>>>>>>>>>>>>>>>>>>>>>>>>>>>>>>>>>>>>>>>', '\\n')\n",
    "# get_recommend_cust(cust_df, 0,9538, final_cat)\n",
    "# print('')\n",
    "# print('<<<<<<<<<<<<<<<<<<<<<<<<<<<<<<<<<<<<<<<<<<<<<<<<<<<<<<<   PURCHSED RECOMMEND PRODUCTS    >>>>>>>>>>>>>>>>>>>>>>>>>>>>>>>>>>>>>>>>>>>>>>>>>>>>>>>>', '\\n')\n",
    "# get_recommend_cust_bought(cust_df, 0,9538, final_cat)\n"
   ]
  },
  {
   "cell_type": "markdown",
   "id": "f737abee",
   "metadata": {},
   "source": [
    "# 값 출력해보기"
   ]
  },
  {
   "cell_type": "markdown",
   "id": "15f652ef",
   "metadata": {},
   "source": [
    "## 0번 군집 학습"
   ]
  },
  {
   "cell_type": "code",
   "execution_count": 22,
   "id": "41a85348",
   "metadata": {
    "scrolled": true
   },
   "outputs": [
    {
     "name": "stdout",
     "output_type": "stream",
     "text": [
      "SVD 모델로 학습\n",
      "Evaluating RMSE, MAE of algorithm SVD on 5 split(s).\n",
      "\n",
      "                  Fold 1  Fold 2  Fold 3  Fold 4  Fold 5  Mean    Std     \n",
      "RMSE (testset)    0.0050  0.0054  0.0052  0.0050  0.0049  0.0051  0.0002  \n",
      "MAE (testset)     0.0007  0.0007  0.0007  0.0007  0.0007  0.0007  0.0000  \n",
      "Fit time          82.74   88.48   86.07   90.51   90.47   87.65   2.95    \n",
      "Test time         42.55   33.08   42.98   41.91   31.72   38.45   4.97    \n",
      "0.005089507141736633\n",
      "{'n_epochs': 40, 'n_factors': 200}\n",
      "-------------학습 완료-------------------\n"
     ]
    }
   ],
   "source": [
    "algo, cust_index_list, temp_df = dict_recommend_unrecommend(cust_df, surprise_df, 0)"
   ]
  },
  {
   "cell_type": "code",
   "execution_count": 23,
   "id": "81214c90",
   "metadata": {},
   "outputs": [],
   "source": [
    "super_list, super_list_bought = return_of_recommend_dict(algo, cust_index_list, temp_df)"
   ]
  },
  {
   "cell_type": "code",
   "execution_count": null,
   "id": "bd4c8dd8",
   "metadata": {},
   "outputs": [],
   "source": [
    "super_list"
   ]
  },
  {
   "cell_type": "code",
   "execution_count": null,
   "id": "20197dc1",
   "metadata": {},
   "outputs": [],
   "source": [
    "get_recommend_cust(0, 11, super_list, final_cat)"
   ]
  },
  {
   "cell_type": "markdown",
   "id": "e83e408f",
   "metadata": {},
   "source": [
    "## 1번 군집 학습"
   ]
  },
  {
   "cell_type": "code",
   "execution_count": 12,
   "id": "d7e369b4",
   "metadata": {},
   "outputs": [
    {
     "name": "stdout",
     "output_type": "stream",
     "text": [
      "SVD 모델로 학습\n",
      "Evaluating RMSE, MAE of algorithm SVD on 5 split(s).\n",
      "\n",
      "                  Fold 1  Fold 2  Fold 3  Fold 4  Fold 5  Mean    Std     \n",
      "RMSE (testset)    0.0067  0.0067  0.0075  0.0062  0.0062  0.0067  0.0005  \n",
      "MAE (testset)     0.0008  0.0008  0.0008  0.0008  0.0008  0.0008  0.0000  \n",
      "Fit time          50.09   58.86   46.51   58.24   53.89   53.52   4.73    \n",
      "Test time         12.69   15.10   13.46   14.11   14.71   14.01   0.86    \n",
      "0.006672268786087228\n",
      "{'n_epochs': 40, 'n_factors': 100}\n",
      "-------------학습 완료-------------------\n"
     ]
    }
   ],
   "source": [
    "algo1, cust_index_list1, temp_df1 = dict_recommend_unrecommend(cust_df, surprise_df, 1)"
   ]
  },
  {
   "cell_type": "code",
   "execution_count": null,
   "id": "d4740076",
   "metadata": {},
   "outputs": [],
   "source": [
    "super_list1, super_list_bought1 = return_of_recommend_dict(algo1, cust_index_list1, temp_d1)"
   ]
  },
  {
   "cell_type": "code",
   "execution_count": null,
   "id": "df191235",
   "metadata": {},
   "outputs": [],
   "source": [
    "get_recommend_cust(cl, 1, 특정고객 아이디, super_list1, final_cat)"
   ]
  },
  {
   "cell_type": "markdown",
   "id": "c59396f8",
   "metadata": {},
   "source": [
    "## 2번 군집 학습"
   ]
  },
  {
   "cell_type": "code",
   "execution_count": 13,
   "id": "7ab69dad",
   "metadata": {},
   "outputs": [
    {
     "name": "stdout",
     "output_type": "stream",
     "text": [
      "SVD 모델로 학습\n",
      "Evaluating RMSE, MAE of algorithm SVD on 5 split(s).\n",
      "\n",
      "                  Fold 1  Fold 2  Fold 3  Fold 4  Fold 5  Mean    Std     \n",
      "RMSE (testset)    0.0054  0.0054  0.0086  0.0078  0.0050  0.0064  0.0015  \n",
      "MAE (testset)     0.0006  0.0006  0.0006  0.0006  0.0006  0.0006  0.0000  \n",
      "Fit time          88.52   116.38  97.43   93.57   93.35   97.85   9.69    \n",
      "Test time         31.63   35.35   31.21   25.26   32.96   31.28   3.34    \n",
      "0.0064641596854195064\n",
      "{'n_epochs': 40, 'n_factors': 200}\n",
      "-------------학습 완료-------------------\n"
     ]
    }
   ],
   "source": [
    "algo2, cust_index_list2, temp_df2 = dict_recommend_unrecommend(cust_df, surprise_df, 2)"
   ]
  },
  {
   "cell_type": "markdown",
   "id": "4b12d362",
   "metadata": {},
   "source": [
    "## 3번 군집 학습"
   ]
  },
  {
   "cell_type": "code",
   "execution_count": null,
   "id": "06b0e0ef",
   "metadata": {},
   "outputs": [
    {
     "name": "stdout",
     "output_type": "stream",
     "text": [
      "SVD 모델로 학습\n",
      "Evaluating RMSE, MAE of algorithm SVD on 5 split(s).\n",
      "\n",
      "                  Fold 1  Fold 2  Fold 3  Fold 4  Fold 5  Mean    Std     \n",
      "RMSE (testset)    0.0038  0.0048  0.0050  0.0039  0.0046  0.0044  0.0005  \n",
      "MAE (testset)     0.0005  0.0005  0.0005  0.0005  0.0005  0.0005  0.0000  \n",
      "Fit time          225.79  242.36  239.70  237.92  236.32  236.42  5.68    \n",
      "Test time         185.74  75.28   80.70   92.28   87.19   104.24  41.16   \n"
     ]
    }
   ],
   "source": [
    "algo4, cust_index_list4, temp_df4 = dict_recommend_unrecommend(cust_df, surprise_df, 3)"
   ]
  },
  {
   "cell_type": "markdown",
   "id": "28947253",
   "metadata": {},
   "source": [
    "## 4번 군집 학습"
   ]
  },
  {
   "cell_type": "code",
   "execution_count": 14,
   "id": "58ed4c4b",
   "metadata": {},
   "outputs": [
    {
     "name": "stdout",
     "output_type": "stream",
     "text": [
      "SVD 모델로 학습\n",
      "Evaluating RMSE, MAE of algorithm SVD on 5 split(s).\n",
      "\n",
      "                  Fold 1  Fold 2  Fold 3  Fold 4  Fold 5  Mean    Std     \n",
      "RMSE (testset)    0.0066  0.0065  0.0147  0.0064  0.0070  0.0082  0.0032  \n",
      "MAE (testset)     0.0008  0.0008  0.0008  0.0008  0.0008  0.0008  0.0000  \n",
      "Fit time          36.83   38.62   38.31   39.14   38.92   38.36   0.82    \n",
      "Test time         7.30    12.42   9.81    12.70   12.56   10.96   2.12    \n",
      "0.00845829644218087\n",
      "{'n_epochs': 60, 'n_factors': 100}\n",
      "-------------학습 완료-------------------\n"
     ]
    }
   ],
   "source": [
    "algo4, cust_index_list4, temp_df4 = dict_recommend_unrecommend(cust_df, surprise_df, 4)"
   ]
  },
  {
   "cell_type": "code",
   "execution_count": null,
   "id": "67bccebc",
   "metadata": {
    "collapsed": true
   },
   "outputs": [
    {
     "name": "stdout",
     "output_type": "stream",
     "text": [
      "<<<<<<<<<<<<<<<<<<<<<<<<<<<<<<<<<<<<<<<<<<<<<<<<<<<<<<<   RECOMMEND PRODUCTS    >>>>>>>>>>>>>>>>>>>>>>>>>>>>>>>>>>>>>>>>>>>>>>>>>>>>>>>> \n",
      "\n",
      "SVD 모델로 학습\n",
      "Evaluating RMSE, MAE of algorithm SVD on 5 split(s).\n",
      "\n",
      "                  Fold 1  Fold 2  Fold 3  Fold 4  Fold 5  Mean    Std     \n",
      "RMSE (testset)    0.0066  0.0069  0.0059  0.0073  0.0064  0.0066  0.0005  \n",
      "MAE (testset)     0.0007  0.0007  0.0007  0.0007  0.0007  0.0007  0.0000  \n",
      "Fit time          98.45   107.46  101.24  92.31   94.39   98.77   5.34    \n",
      "Test time         32.04   34.74   35.64   25.02   31.87   31.86   3.73    \n",
      "0.006641465075608799\n",
      "{'n_epochs': 40, 'n_factors': 200}\n",
      "-------------학습 완료-------------------\n",
      "SVD 모델로 학습\n",
      "Evaluating RMSE, MAE of algorithm SVD on 5 split(s).\n",
      "\n",
      "                  Fold 1  Fold 2  Fold 3  Fold 4  Fold 5  Mean    Std     \n",
      "RMSE (testset)    0.0071  0.0068  0.0069  0.0071  0.0069  0.0070  0.0001  \n",
      "MAE (testset)     0.0009  0.0009  0.0008  0.0009  0.0009  0.0009  0.0000  \n",
      "Fit time          72.93   80.69   87.53   81.73   79.94   80.56   4.66    \n",
      "Test time         26.30   27.11   27.18   22.77   27.24   26.12   1.71    \n",
      "0.006977850683083735\n",
      "{'n_epochs': 40, 'n_factors': 100}\n",
      "-------------학습 완료-------------------\n",
      "SVD 모델로 학습\n"
     ]
    }
   ],
   "source": [
    "clust_df = pd.read_csv('생성데이터/5. 추천시스템/surprise_data/cust_clustering.csv', index_col = 0)\n",
    "\n",
    "def get_recommend_cust_bought(df, cluster, cust, user_item_index_df, category_df):\n",
    "print('<<<<<<<<<<<<<<<<<<<<<<<<<<<<<<<<<<<<<<<<<<<<<<<<<<<<<<<   RECOMMEND PRODUCTS    >>>>>>>>>>>>>>>>>>>>>>>>>>>>>>>>>>>>>>>>>>>>>>>>>>>>>>>>', '\\n')\n",
    "get_recommend_cust(clust_df, 0,9538, surprise_df, final_cat)\n",
    "print('')\n",
    "print('<<<<<<<<<<<<<<<<<<<<<<<<<<<<<<<<<<<<<<<<<<<<<<<<<<<<<<<   PURCHSED RECOMMEND PRODUCTS    >>>>>>>>>>>>>>>>>>>>>>>>>>>>>>>>>>>>>>>>>>>>>>>>>>>>>>>>', '\\n')\n",
    "get_recommend_cust_bought(clust_df, 0,9538, surprise_df, final_cat)"
   ]
  }
 ],
 "metadata": {
  "kernelspec": {
   "display_name": "Python 3 (ipykernel)",
   "language": "python",
   "name": "python3"
  },
  "language_info": {
   "codemirror_mode": {
    "name": "ipython",
    "version": 3
   },
   "file_extension": ".py",
   "mimetype": "text/x-python",
   "name": "python",
   "nbconvert_exporter": "python",
   "pygments_lexer": "ipython3",
   "version": "3.8.13"
  },
  "toc": {
   "base_numbering": 1,
   "nav_menu": {},
   "number_sections": true,
   "sideBar": true,
   "skip_h1_title": false,
   "title_cell": "Table of Contents",
   "title_sidebar": "Contents",
   "toc_cell": false,
   "toc_position": {},
   "toc_section_display": true,
   "toc_window_display": true
  }
 },
 "nbformat": 4,
 "nbformat_minor": 5
}
