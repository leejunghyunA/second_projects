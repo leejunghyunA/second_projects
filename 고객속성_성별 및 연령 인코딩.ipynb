{
 "cells": [
  {
   "cell_type": "markdown",
   "id": "d3f88061",
   "metadata": {},
   "source": [
    "# 고객 데모데이터 불러오기"
   ]
  },
  {
   "cell_type": "code",
   "execution_count": 2,
   "id": "580a6e14",
   "metadata": {},
   "outputs": [
    {
     "data": {
      "text/html": [
       "<div>\n",
       "<style scoped>\n",
       "    .dataframe tbody tr th:only-of-type {\n",
       "        vertical-align: middle;\n",
       "    }\n",
       "\n",
       "    .dataframe tbody tr th {\n",
       "        vertical-align: top;\n",
       "    }\n",
       "\n",
       "    .dataframe thead th {\n",
       "        text-align: right;\n",
       "    }\n",
       "</style>\n",
       "<table border=\"1\" class=\"dataframe\">\n",
       "  <thead>\n",
       "    <tr style=\"text-align: right;\">\n",
       "      <th></th>\n",
       "      <th>고객번호</th>\n",
       "      <th>성별</th>\n",
       "      <th>연령대</th>\n",
       "      <th>거주지역</th>\n",
       "    </tr>\n",
       "  </thead>\n",
       "  <tbody>\n",
       "    <tr>\n",
       "      <th>0</th>\n",
       "      <td>1</td>\n",
       "      <td>M</td>\n",
       "      <td>60세이상</td>\n",
       "      <td>60.0</td>\n",
       "    </tr>\n",
       "    <tr>\n",
       "      <th>1</th>\n",
       "      <td>2</td>\n",
       "      <td>M</td>\n",
       "      <td>60세이상</td>\n",
       "      <td>100.0</td>\n",
       "    </tr>\n",
       "    <tr>\n",
       "      <th>2</th>\n",
       "      <td>3</td>\n",
       "      <td>M</td>\n",
       "      <td>60세이상</td>\n",
       "      <td>33.0</td>\n",
       "    </tr>\n",
       "    <tr>\n",
       "      <th>3</th>\n",
       "      <td>4</td>\n",
       "      <td>F</td>\n",
       "      <td>60세이상</td>\n",
       "      <td>16.0</td>\n",
       "    </tr>\n",
       "    <tr>\n",
       "      <th>4</th>\n",
       "      <td>5</td>\n",
       "      <td>M</td>\n",
       "      <td>60세이상</td>\n",
       "      <td>100.0</td>\n",
       "    </tr>\n",
       "    <tr>\n",
       "      <th>...</th>\n",
       "      <td>...</td>\n",
       "      <td>...</td>\n",
       "      <td>...</td>\n",
       "      <td>...</td>\n",
       "    </tr>\n",
       "    <tr>\n",
       "      <th>19378</th>\n",
       "      <td>19379</td>\n",
       "      <td>F</td>\n",
       "      <td>20세~24세</td>\n",
       "      <td>69.0</td>\n",
       "    </tr>\n",
       "    <tr>\n",
       "      <th>19379</th>\n",
       "      <td>19380</td>\n",
       "      <td>F</td>\n",
       "      <td>20세~24세</td>\n",
       "      <td>39.0</td>\n",
       "    </tr>\n",
       "    <tr>\n",
       "      <th>19380</th>\n",
       "      <td>19381</td>\n",
       "      <td>F</td>\n",
       "      <td>40세~44세</td>\n",
       "      <td>460.0</td>\n",
       "    </tr>\n",
       "    <tr>\n",
       "      <th>19381</th>\n",
       "      <td>19382</td>\n",
       "      <td>F</td>\n",
       "      <td>45세~49세</td>\n",
       "      <td>460.0</td>\n",
       "    </tr>\n",
       "    <tr>\n",
       "      <th>19382</th>\n",
       "      <td>19383</td>\n",
       "      <td>F</td>\n",
       "      <td>25세~29세</td>\n",
       "      <td>500.0</td>\n",
       "    </tr>\n",
       "  </tbody>\n",
       "</table>\n",
       "<p>19383 rows × 4 columns</p>\n",
       "</div>"
      ],
      "text/plain": [
       "        고객번호 성별      연령대   거주지역\n",
       "0          1  M    60세이상   60.0\n",
       "1          2  M    60세이상  100.0\n",
       "2          3  M    60세이상   33.0\n",
       "3          4  F    60세이상   16.0\n",
       "4          5  M    60세이상  100.0\n",
       "...      ... ..      ...    ...\n",
       "19378  19379  F  20세~24세   69.0\n",
       "19379  19380  F  20세~24세   39.0\n",
       "19380  19381  F  40세~44세  460.0\n",
       "19381  19382  F  45세~49세  460.0\n",
       "19382  19383  F  25세~29세  500.0\n",
       "\n",
       "[19383 rows x 4 columns]"
      ]
     },
     "execution_count": 2,
     "metadata": {},
     "output_type": "execute_result"
    }
   ],
   "source": [
    "import pandas as pd\n",
    "\n",
    "customer = pd.read_csv('C:/cakd7/2차 프로젝트/data/고객DEMO.txt', sep=',', encoding='cp949')\n",
    "customer"
   ]
  },
  {
   "cell_type": "markdown",
   "id": "804b78f7",
   "metadata": {},
   "source": [
    "### 성별 인코딩"
   ]
  },
  {
   "cell_type": "code",
   "execution_count": 4,
   "id": "9c783d39",
   "metadata": {
    "scrolled": true
   },
   "outputs": [
    {
     "data": {
      "text/plain": [
       "array(['M', 'F'], dtype=object)"
      ]
     },
     "execution_count": 4,
     "metadata": {},
     "output_type": "execute_result"
    }
   ],
   "source": [
    "customer['성별'].unique()"
   ]
  },
  {
   "cell_type": "code",
   "execution_count": 6,
   "id": "f4696793",
   "metadata": {},
   "outputs": [
    {
     "data": {
      "text/plain": [
       "0        0\n",
       "1        0\n",
       "2        0\n",
       "3        1\n",
       "4        0\n",
       "        ..\n",
       "19378    1\n",
       "19379    1\n",
       "19380    1\n",
       "19381    1\n",
       "19382    1\n",
       "Name: 성별_인코딩, Length: 19383, dtype: int32"
      ]
     },
     "execution_count": 6,
     "metadata": {},
     "output_type": "execute_result"
    }
   ],
   "source": [
    "customer['성별_인코딩'] = customer['성별'].replace(['M', 'F'],['0','1'])\n",
    "customer['성별_인코딩'].astype(int)"
   ]
  },
  {
   "cell_type": "markdown",
   "id": "e2375598",
   "metadata": {},
   "source": [
    "### 연령대 인코딩"
   ]
  },
  {
   "cell_type": "code",
   "execution_count": 8,
   "id": "15457ddb",
   "metadata": {},
   "outputs": [
    {
     "data": {
      "text/plain": [
       "array(['60세이상', '55세~59세', '50세~54세', '45세~49세', '40세~44세', '35세~39세',\n",
       "       '30세~34세', '25세~29세', '20세~24세', '19세이하'], dtype=object)"
      ]
     },
     "execution_count": 8,
     "metadata": {},
     "output_type": "execute_result"
    }
   ],
   "source": [
    "customer['연령대'].unique()"
   ]
  },
  {
   "cell_type": "code",
   "execution_count": 11,
   "id": "6caad8af",
   "metadata": {},
   "outputs": [
    {
     "data": {
      "text/plain": [
       "['10', '9', '8', '7', '6', '5', '4', '3', '2', '1']"
      ]
     },
     "execution_count": 11,
     "metadata": {},
     "output_type": "execute_result"
    }
   ],
   "source": [
    "[str(i) for i in range(10,0,-1)]"
   ]
  },
  {
   "cell_type": "code",
   "execution_count": 13,
   "id": "6e327f5a",
   "metadata": {
    "scrolled": true
   },
   "outputs": [
    {
     "data": {
      "text/plain": [
       "Index(['고객번호', '성별', '연령대', '거주지역', '성별_인코딩', '연령대_5세_인코딩', '연령대_10세_인코딩'], dtype='object')"
      ]
     },
     "execution_count": 13,
     "metadata": {},
     "output_type": "execute_result"
    }
   ],
   "source": [
    "customer.columns"
   ]
  },
  {
   "cell_type": "code",
   "execution_count": 16,
   "id": "7a8e27e5",
   "metadata": {},
   "outputs": [],
   "source": [
    "\n",
    "customer['연령대_5세_인코딩'] = customer['연령대'].replace(['60세이상', '55세~59세', '50세~54세', '45세~49세', '40세~44세', \n",
    "                                                       '35세~39세', '30세~34세', '25세~29세', '20세~24세', '19세이하'],\n",
    "                                                      [str(i) for i in range(10,0,-1)])\n",
    "customer['연령대_10세_인코딩'] = customer['연령대'].replace(['60세이상', '55세~59세', '50세~54세', '45세~49세', '40세~44세', \n",
    "                                                       '35세~39세', '30세~34세', '25세~29세', '20세~24세', '19세이하'],\n",
    "                                                      ['6', '5', '5', '4', '4', '3', '3', '2', '2', '1'])\n",
    "\n",
    "customer_encoding = customer[['고객번호','성별_인코딩', '연령대_5세_인코딩', '연령대_10세_인코딩']]\n",
    "customer_encoding.columns = ['고객번호', '성별', '연령대_5세', '연령대_10세']\n",
    "customer_encoding.to_csv('C:/cakd7/cakd7_class/github_구매감소예측프로젝트/second_projects/생성데이터/고객속성정보/전체고객_성별_연령.csv')"
   ]
  },
  {
   "cell_type": "code",
   "execution_count": null,
   "id": "be06004b",
   "metadata": {},
   "outputs": [],
   "source": []
  },
  {
   "cell_type": "code",
   "execution_count": null,
   "id": "7f09d4ca",
   "metadata": {},
   "outputs": [],
   "source": []
  }
 ],
 "metadata": {
  "kernelspec": {
   "display_name": "Python 3 (ipykernel)",
   "language": "python",
   "name": "python3"
  },
  "language_info": {
   "codemirror_mode": {
    "name": "ipython",
    "version": 3
   },
   "file_extension": ".py",
   "mimetype": "text/x-python",
   "name": "python",
   "nbconvert_exporter": "python",
   "pygments_lexer": "ipython3",
   "version": "3.8.13"
  },
  "toc": {
   "base_numbering": 1,
   "nav_menu": {},
   "number_sections": true,
   "sideBar": true,
   "skip_h1_title": false,
   "title_cell": "Table of Contents",
   "title_sidebar": "Contents",
   "toc_cell": false,
   "toc_position": {},
   "toc_section_display": true,
   "toc_window_display": false
  }
 },
 "nbformat": 4,
 "nbformat_minor": 5
}
